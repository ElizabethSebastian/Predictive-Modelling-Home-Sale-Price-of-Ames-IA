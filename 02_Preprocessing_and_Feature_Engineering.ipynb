{
 "cells": [
  {
   "cell_type": "markdown",
   "metadata": {},
   "source": [
    "<img src=\"http://imgur.com/1ZcRyrc.png\" style=\"float: left; margin: 20px; height: 55px\">\n",
    "\n",
    "# Project2 Predictive Modelling:Home Sale Price of Ames, IA\n",
    "\n",
    "### Part 2 Preprocessing & Feature Engineering\n",
    "\n",
    "---"
   ]
  },
  {
   "cell_type": "markdown",
   "metadata": {},
   "source": [
    "## Contents:\n",
    "- [Data Import and Classification of Variables](#Data-Import-and-Classification-of-Variables)\n",
    "- [Data Cleaning](#Data-Cleaning)\n",
    "- [Exploratory Data Analysis](#Exploratory-Data-Analysis)\n",
    "- [Preprocessing & Feature Engineering](#Preprocessing-&-Feature-Engineering)\n",
    "- [Model, Predict & Evaluate](#Model,-Predict-&-Evaluate)\n",
    "- [Conclusions and Recommendations](#Conclusions-and-Recommendations)"
   ]
  },
  {
   "cell_type": "markdown",
   "metadata": {},
   "source": [
    "#### Import Data"
   ]
  },
  {
   "cell_type": "code",
   "execution_count": 1,
   "metadata": {},
   "outputs": [],
   "source": [
    "#Import libtaries\n",
    "import pandas as pd\n",
    "import numpy as np\n",
    "import seaborn as sns\n",
    "from matplotlib import pyplot as plt\n",
    "%config InlineBackend.figure_format = 'retina'\n",
    "%matplotlib inline\n",
    "import sklearn.linear_model as linear_model\n",
    "from sklearn.linear_model import LinearRegression, LassoCV, RidgeCV,Lasso, ElasticNetCV,Ridge,ElasticNet\n",
    "from sklearn.model_selection import train_test_split, cross_val_score, cross_val_predict\n",
    "from sklearn.metrics import r2_score,mean_squared_error\n",
    "from sklearn.preprocessing import StandardScaler"
   ]
  },
  {
   "cell_type": "code",
   "execution_count": 2,
   "metadata": {
    "scrolled": true
   },
   "outputs": [
    {
     "data": {
      "text/html": [
       "<div>\n",
       "<style scoped>\n",
       "    .dataframe tbody tr th:only-of-type {\n",
       "        vertical-align: middle;\n",
       "    }\n",
       "\n",
       "    .dataframe tbody tr th {\n",
       "        vertical-align: top;\n",
       "    }\n",
       "\n",
       "    .dataframe thead th {\n",
       "        text-align: right;\n",
       "    }\n",
       "</style>\n",
       "<table border=\"1\" class=\"dataframe\">\n",
       "  <thead>\n",
       "    <tr style=\"text-align: right;\">\n",
       "      <th></th>\n",
       "      <th>ms_subclass</th>\n",
       "      <th>ms_zoning</th>\n",
       "      <th>lot_frontage</th>\n",
       "      <th>lot_area</th>\n",
       "      <th>street</th>\n",
       "      <th>lot_shape</th>\n",
       "      <th>land_contour</th>\n",
       "      <th>utilities</th>\n",
       "      <th>lot_config</th>\n",
       "      <th>land_slope</th>\n",
       "      <th>...</th>\n",
       "      <th>enclosed_porch</th>\n",
       "      <th>3ssn_porch</th>\n",
       "      <th>screen_porch</th>\n",
       "      <th>pool_area</th>\n",
       "      <th>misc_val</th>\n",
       "      <th>mo_sold</th>\n",
       "      <th>yr_sold</th>\n",
       "      <th>sale_type</th>\n",
       "      <th>saleprice</th>\n",
       "      <th>total_sf</th>\n",
       "    </tr>\n",
       "  </thead>\n",
       "  <tbody>\n",
       "    <tr>\n",
       "      <th>0</th>\n",
       "      <td>60</td>\n",
       "      <td>RL</td>\n",
       "      <td>0.0</td>\n",
       "      <td>13517</td>\n",
       "      <td>Pave</td>\n",
       "      <td>IR1</td>\n",
       "      <td>Lvl</td>\n",
       "      <td>AllPub</td>\n",
       "      <td>CulDSac</td>\n",
       "      <td>Gtl</td>\n",
       "      <td>...</td>\n",
       "      <td>0</td>\n",
       "      <td>0</td>\n",
       "      <td>0</td>\n",
       "      <td>0</td>\n",
       "      <td>0</td>\n",
       "      <td>3</td>\n",
       "      <td>2010</td>\n",
       "      <td>WD</td>\n",
       "      <td>130500</td>\n",
       "      <td>2204.0</td>\n",
       "    </tr>\n",
       "    <tr>\n",
       "      <th>1</th>\n",
       "      <td>60</td>\n",
       "      <td>RL</td>\n",
       "      <td>43.0</td>\n",
       "      <td>11492</td>\n",
       "      <td>Pave</td>\n",
       "      <td>IR1</td>\n",
       "      <td>Lvl</td>\n",
       "      <td>AllPub</td>\n",
       "      <td>CulDSac</td>\n",
       "      <td>Gtl</td>\n",
       "      <td>...</td>\n",
       "      <td>0</td>\n",
       "      <td>0</td>\n",
       "      <td>0</td>\n",
       "      <td>0</td>\n",
       "      <td>0</td>\n",
       "      <td>4</td>\n",
       "      <td>2009</td>\n",
       "      <td>WD</td>\n",
       "      <td>220000</td>\n",
       "      <td>3035.0</td>\n",
       "    </tr>\n",
       "    <tr>\n",
       "      <th>2</th>\n",
       "      <td>20</td>\n",
       "      <td>RL</td>\n",
       "      <td>68.0</td>\n",
       "      <td>7922</td>\n",
       "      <td>Pave</td>\n",
       "      <td>Reg</td>\n",
       "      <td>Lvl</td>\n",
       "      <td>AllPub</td>\n",
       "      <td>Inside</td>\n",
       "      <td>Gtl</td>\n",
       "      <td>...</td>\n",
       "      <td>0</td>\n",
       "      <td>0</td>\n",
       "      <td>0</td>\n",
       "      <td>0</td>\n",
       "      <td>0</td>\n",
       "      <td>1</td>\n",
       "      <td>2010</td>\n",
       "      <td>WD</td>\n",
       "      <td>109000</td>\n",
       "      <td>2114.0</td>\n",
       "    </tr>\n",
       "    <tr>\n",
       "      <th>3</th>\n",
       "      <td>60</td>\n",
       "      <td>RL</td>\n",
       "      <td>73.0</td>\n",
       "      <td>9802</td>\n",
       "      <td>Pave</td>\n",
       "      <td>Reg</td>\n",
       "      <td>Lvl</td>\n",
       "      <td>AllPub</td>\n",
       "      <td>Inside</td>\n",
       "      <td>Gtl</td>\n",
       "      <td>...</td>\n",
       "      <td>0</td>\n",
       "      <td>0</td>\n",
       "      <td>0</td>\n",
       "      <td>0</td>\n",
       "      <td>0</td>\n",
       "      <td>4</td>\n",
       "      <td>2010</td>\n",
       "      <td>WD</td>\n",
       "      <td>174000</td>\n",
       "      <td>1828.0</td>\n",
       "    </tr>\n",
       "    <tr>\n",
       "      <th>4</th>\n",
       "      <td>50</td>\n",
       "      <td>RL</td>\n",
       "      <td>82.0</td>\n",
       "      <td>14235</td>\n",
       "      <td>Pave</td>\n",
       "      <td>IR1</td>\n",
       "      <td>Lvl</td>\n",
       "      <td>AllPub</td>\n",
       "      <td>Inside</td>\n",
       "      <td>Gtl</td>\n",
       "      <td>...</td>\n",
       "      <td>0</td>\n",
       "      <td>0</td>\n",
       "      <td>0</td>\n",
       "      <td>0</td>\n",
       "      <td>0</td>\n",
       "      <td>3</td>\n",
       "      <td>2010</td>\n",
       "      <td>WD</td>\n",
       "      <td>138500</td>\n",
       "      <td>2121.0</td>\n",
       "    </tr>\n",
       "  </tbody>\n",
       "</table>\n",
       "<p>5 rows × 68 columns</p>\n",
       "</div>"
      ],
      "text/plain": [
       "   ms_subclass ms_zoning  lot_frontage  lot_area street lot_shape  \\\n",
       "0           60        RL           0.0     13517   Pave       IR1   \n",
       "1           60        RL          43.0     11492   Pave       IR1   \n",
       "2           20        RL          68.0      7922   Pave       Reg   \n",
       "3           60        RL          73.0      9802   Pave       Reg   \n",
       "4           50        RL          82.0     14235   Pave       IR1   \n",
       "\n",
       "  land_contour utilities lot_config land_slope  ... enclosed_porch 3ssn_porch  \\\n",
       "0          Lvl    AllPub    CulDSac        Gtl  ...              0          0   \n",
       "1          Lvl    AllPub    CulDSac        Gtl  ...              0          0   \n",
       "2          Lvl    AllPub     Inside        Gtl  ...              0          0   \n",
       "3          Lvl    AllPub     Inside        Gtl  ...              0          0   \n",
       "4          Lvl    AllPub     Inside        Gtl  ...              0          0   \n",
       "\n",
       "  screen_porch pool_area misc_val  mo_sold  yr_sold  sale_type  saleprice  \\\n",
       "0            0         0        0        3     2010        WD      130500   \n",
       "1            0         0        0        4     2009        WD      220000   \n",
       "2            0         0        0        1     2010        WD      109000   \n",
       "3            0         0        0        4     2010        WD      174000   \n",
       "4            0         0        0        3     2010        WD      138500   \n",
       "\n",
       "  total_sf  \n",
       "0   2204.0  \n",
       "1   3035.0  \n",
       "2   2114.0  \n",
       "3   1828.0  \n",
       "4   2121.0  \n",
       "\n",
       "[5 rows x 68 columns]"
      ]
     },
     "execution_count": 2,
     "metadata": {},
     "output_type": "execute_result"
    }
   ],
   "source": [
    "# Read in data from train Dataframe\n",
    "train=pd.read_csv('datasets/train_clean.csv')\n",
    "train.head()"
   ]
  },
  {
   "cell_type": "code",
   "execution_count": 3,
   "metadata": {
    "scrolled": false
   },
   "outputs": [
    {
     "data": {
      "text/html": [
       "<div>\n",
       "<style scoped>\n",
       "    .dataframe tbody tr th:only-of-type {\n",
       "        vertical-align: middle;\n",
       "    }\n",
       "\n",
       "    .dataframe tbody tr th {\n",
       "        vertical-align: top;\n",
       "    }\n",
       "\n",
       "    .dataframe thead th {\n",
       "        text-align: right;\n",
       "    }\n",
       "</style>\n",
       "<table border=\"1\" class=\"dataframe\">\n",
       "  <thead>\n",
       "    <tr style=\"text-align: right;\">\n",
       "      <th></th>\n",
       "      <th>ms_subclass</th>\n",
       "      <th>ms_zoning</th>\n",
       "      <th>lot_frontage</th>\n",
       "      <th>lot_area</th>\n",
       "      <th>street</th>\n",
       "      <th>lot_shape</th>\n",
       "      <th>land_contour</th>\n",
       "      <th>utilities</th>\n",
       "      <th>lot_config</th>\n",
       "      <th>land_slope</th>\n",
       "      <th>...</th>\n",
       "      <th>open_porch_sf</th>\n",
       "      <th>enclosed_porch</th>\n",
       "      <th>3ssn_porch</th>\n",
       "      <th>screen_porch</th>\n",
       "      <th>pool_area</th>\n",
       "      <th>misc_val</th>\n",
       "      <th>mo_sold</th>\n",
       "      <th>yr_sold</th>\n",
       "      <th>sale_type</th>\n",
       "      <th>total_sf</th>\n",
       "    </tr>\n",
       "  </thead>\n",
       "  <tbody>\n",
       "    <tr>\n",
       "      <th>0</th>\n",
       "      <td>190</td>\n",
       "      <td>RM</td>\n",
       "      <td>69.0</td>\n",
       "      <td>9142</td>\n",
       "      <td>Pave</td>\n",
       "      <td>Reg</td>\n",
       "      <td>Lvl</td>\n",
       "      <td>AllPub</td>\n",
       "      <td>Inside</td>\n",
       "      <td>Gtl</td>\n",
       "      <td>...</td>\n",
       "      <td>60</td>\n",
       "      <td>112</td>\n",
       "      <td>0</td>\n",
       "      <td>0</td>\n",
       "      <td>0</td>\n",
       "      <td>0</td>\n",
       "      <td>4</td>\n",
       "      <td>2006</td>\n",
       "      <td>WD</td>\n",
       "      <td>2948</td>\n",
       "    </tr>\n",
       "    <tr>\n",
       "      <th>1</th>\n",
       "      <td>90</td>\n",
       "      <td>RL</td>\n",
       "      <td>0.0</td>\n",
       "      <td>9662</td>\n",
       "      <td>Pave</td>\n",
       "      <td>IR1</td>\n",
       "      <td>Lvl</td>\n",
       "      <td>AllPub</td>\n",
       "      <td>Inside</td>\n",
       "      <td>Gtl</td>\n",
       "      <td>...</td>\n",
       "      <td>0</td>\n",
       "      <td>0</td>\n",
       "      <td>0</td>\n",
       "      <td>0</td>\n",
       "      <td>0</td>\n",
       "      <td>0</td>\n",
       "      <td>8</td>\n",
       "      <td>2006</td>\n",
       "      <td>WD</td>\n",
       "      <td>3934</td>\n",
       "    </tr>\n",
       "    <tr>\n",
       "      <th>2</th>\n",
       "      <td>60</td>\n",
       "      <td>RL</td>\n",
       "      <td>58.0</td>\n",
       "      <td>17104</td>\n",
       "      <td>Pave</td>\n",
       "      <td>IR1</td>\n",
       "      <td>Lvl</td>\n",
       "      <td>AllPub</td>\n",
       "      <td>Inside</td>\n",
       "      <td>Gtl</td>\n",
       "      <td>...</td>\n",
       "      <td>24</td>\n",
       "      <td>0</td>\n",
       "      <td>0</td>\n",
       "      <td>0</td>\n",
       "      <td>0</td>\n",
       "      <td>0</td>\n",
       "      <td>9</td>\n",
       "      <td>2006</td>\n",
       "      <td>New</td>\n",
       "      <td>2150</td>\n",
       "    </tr>\n",
       "    <tr>\n",
       "      <th>3</th>\n",
       "      <td>30</td>\n",
       "      <td>RM</td>\n",
       "      <td>60.0</td>\n",
       "      <td>8520</td>\n",
       "      <td>Pave</td>\n",
       "      <td>Reg</td>\n",
       "      <td>Lvl</td>\n",
       "      <td>AllPub</td>\n",
       "      <td>Inside</td>\n",
       "      <td>Gtl</td>\n",
       "      <td>...</td>\n",
       "      <td>0</td>\n",
       "      <td>184</td>\n",
       "      <td>0</td>\n",
       "      <td>0</td>\n",
       "      <td>0</td>\n",
       "      <td>0</td>\n",
       "      <td>7</td>\n",
       "      <td>2007</td>\n",
       "      <td>WD</td>\n",
       "      <td>1936</td>\n",
       "    </tr>\n",
       "    <tr>\n",
       "      <th>4</th>\n",
       "      <td>20</td>\n",
       "      <td>RL</td>\n",
       "      <td>0.0</td>\n",
       "      <td>9500</td>\n",
       "      <td>Pave</td>\n",
       "      <td>IR1</td>\n",
       "      <td>Lvl</td>\n",
       "      <td>AllPub</td>\n",
       "      <td>Inside</td>\n",
       "      <td>Gtl</td>\n",
       "      <td>...</td>\n",
       "      <td>76</td>\n",
       "      <td>0</td>\n",
       "      <td>0</td>\n",
       "      <td>185</td>\n",
       "      <td>0</td>\n",
       "      <td>0</td>\n",
       "      <td>7</td>\n",
       "      <td>2009</td>\n",
       "      <td>WD</td>\n",
       "      <td>2788</td>\n",
       "    </tr>\n",
       "  </tbody>\n",
       "</table>\n",
       "<p>5 rows × 67 columns</p>\n",
       "</div>"
      ],
      "text/plain": [
       "   ms_subclass ms_zoning  lot_frontage  lot_area street lot_shape  \\\n",
       "0          190        RM          69.0      9142   Pave       Reg   \n",
       "1           90        RL           0.0      9662   Pave       IR1   \n",
       "2           60        RL          58.0     17104   Pave       IR1   \n",
       "3           30        RM          60.0      8520   Pave       Reg   \n",
       "4           20        RL           0.0      9500   Pave       IR1   \n",
       "\n",
       "  land_contour utilities lot_config land_slope  ... open_porch_sf  \\\n",
       "0          Lvl    AllPub     Inside        Gtl  ...            60   \n",
       "1          Lvl    AllPub     Inside        Gtl  ...             0   \n",
       "2          Lvl    AllPub     Inside        Gtl  ...            24   \n",
       "3          Lvl    AllPub     Inside        Gtl  ...             0   \n",
       "4          Lvl    AllPub     Inside        Gtl  ...            76   \n",
       "\n",
       "  enclosed_porch 3ssn_porch screen_porch pool_area  misc_val  mo_sold  \\\n",
       "0            112          0            0         0         0        4   \n",
       "1              0          0            0         0         0        8   \n",
       "2              0          0            0         0         0        9   \n",
       "3            184          0            0         0         0        7   \n",
       "4              0          0          185         0         0        7   \n",
       "\n",
       "   yr_sold  sale_type total_sf  \n",
       "0     2006        WD      2948  \n",
       "1     2006        WD      3934  \n",
       "2     2006        New     2150  \n",
       "3     2007        WD      1936  \n",
       "4     2009        WD      2788  \n",
       "\n",
       "[5 rows x 67 columns]"
      ]
     },
     "execution_count": 3,
     "metadata": {},
     "output_type": "execute_result"
    }
   ],
   "source": [
    "# Read in data from test Dataframe\n",
    "kaggle_test=pd.read_csv('datasets/kaggle_test_clean.csv')\n",
    "kaggle_test.head()"
   ]
  },
  {
   "cell_type": "code",
   "execution_count": 4,
   "metadata": {
    "scrolled": true
   },
   "outputs": [
    {
     "name": "stdout",
     "output_type": "stream",
     "text": [
      "(2046, 68) (879, 67)\n"
     ]
    }
   ],
   "source": [
    "print(train.shape,kaggle_test.shape)  #Check the both data shapes"
   ]
  },
  {
   "cell_type": "markdown",
   "metadata": {},
   "source": [
    "## Preprocessing & Feature Engineering\n",
    "#### Converting Ordinal Columns\n",
    "All the ordinal columns in both training and test dataframe with type object were converted to integer by assigning ranks. This will help in the modeliing and prediction later."
   ]
  },
  {
   "cell_type": "code",
   "execution_count": 5,
   "metadata": {},
   "outputs": [],
   "source": [
    "# converting ordinal columns with type object to int by assigning ranks. Using single mapper for all ordinal variables\n",
    "#with 6 codes\n",
    "ordinal_mapper6 = {'No': 0, 'Po': 1, 'Fa': 2, 'TA': 3,'Gd': 4,'Ex': 5 }\n",
    "train['exter_qual'] = train['exter_qual'].map(ordinal_mapper6) #for Train dataframe\n",
    "train['exter_cond'] = train['exter_cond'].map(ordinal_mapper6)\n",
    "train['bsmt_qual'] = train['bsmt_qual'].map(ordinal_mapper6)\n",
    "train['bsmt_cond'] = train['bsmt_cond'].map(ordinal_mapper6)\n",
    "train['garage_qual'] = train['garage_qual'].map(ordinal_mapper6)\n",
    "train['garage_cond'] = train['garage_cond'].map(ordinal_mapper6)\n",
    "train['heating_qc'] = train['heating_qc'].map(ordinal_mapper6)\n",
    "train['kitchen_qual'] = train['kitchen_qual'].map(ordinal_mapper6)\n",
    "\n",
    "kaggle_test['exter_qual'] = kaggle_test['exter_qual'].map(ordinal_mapper6) #for Test dataframe\n",
    "kaggle_test['exter_cond'] = kaggle_test['exter_cond'].map(ordinal_mapper6)\n",
    "kaggle_test['bsmt_qual'] = kaggle_test['bsmt_qual'].map(ordinal_mapper6)\n",
    "kaggle_test['bsmt_cond'] = kaggle_test['bsmt_cond'].map(ordinal_mapper6)\n",
    "kaggle_test['garage_qual'] = kaggle_test['garage_qual'].map(ordinal_mapper6)\n",
    "kaggle_test['garage_cond'] = kaggle_test['garage_cond'].map(ordinal_mapper6)\n",
    "kaggle_test['heating_qc'] = kaggle_test['heating_qc'].map(ordinal_mapper6)\n",
    "kaggle_test['kitchen_qual'] = kaggle_test['kitchen_qual'].map(ordinal_mapper6)"
   ]
  },
  {
   "cell_type": "code",
   "execution_count": 6,
   "metadata": {},
   "outputs": [],
   "source": [
    "# converting ordinal columns with type object to int by assigning ranks. Using single mapper for all ordinal variables\n",
    "#with 7 codes\n",
    "ordinal_mapper8 = {'Sal': 0, 'Sev': 1, 'Maj2': 2, 'Maj1': 3,'Mod': 4,'Min2': 5, 'Min1': 6 ,'Typ': 7 }\n",
    "train['functional'] = train['functional'].map(ordinal_mapper8) #for Train dataframe\n",
    "\n",
    "kaggle_test['functional'] = kaggle_test['functional'].map(ordinal_mapper8)#for Test dataframe"
   ]
  },
  {
   "cell_type": "code",
   "execution_count": 7,
   "metadata": {},
   "outputs": [],
   "source": [
    "# converting ordinal columns with type object to int by assigning ranks. Using single mapper for all ordinal variables\n",
    "#with 5 codes\n",
    "ordinal_mapper5={'No':0,'No':1,'Mn':2,'Av':3,'Gd':4}\n",
    "train['bsmt_exposure'] = train['bsmt_exposure'].map(ordinal_mapper5)#for Train dataframe\n",
    "\n",
    "kaggle_test['bsmt_exposure'] = kaggle_test['bsmt_exposure'].map(ordinal_mapper5) #for Test dataframe"
   ]
  },
  {
   "cell_type": "code",
   "execution_count": 8,
   "metadata": {},
   "outputs": [],
   "source": [
    "# converting ordinal columns with type object to int by assigning ranks. Using single mapper for all ordinal variables\n",
    "#with 7 codes\n",
    "ordinal_mappers7={'No': 0, 'Detchd': 1, 'CarPort': 2, 'BuiltIn': 3,  \n",
    "                                                             'Basment': 4,'Attchd': 5,'2Types': 6}\n",
    "train['garage_type'] = train['garage_type'].map(ordinal_mappers7) #for Train dataframe\n",
    "kaggle_test['garage_type'] = kaggle_test['garage_type'].map(ordinal_mappers7)#for Test dataframe\n",
    "\n"
   ]
  },
  {
   "cell_type": "code",
   "execution_count": 9,
   "metadata": {},
   "outputs": [],
   "source": [
    "# converting ordinal columns with type object to int by assigning ranks.\n",
    "train['garage_finish'] = train['garage_finish'].map({'No': 0, 'Unf': 1, 'RFn': 2, 'Fin': 3}) #for Train dataframe\n",
    "kaggle_test['garage_finish'] = kaggle_test['garage_finish'].map({'No': 0, 'Unf': 1, 'RFn': 2, 'Fin': 3}) #for Test dataframe\n",
    "\n",
    "train['central_air'] = train['central_air'].map({'N': 0,'Y': 1})#for Train dataframe\n",
    "kaggle_test['central_air'] = kaggle_test['central_air'].map({'N': 0,'Y': 1}) #for Test dataframe\n",
    "\n",
    "train['paved_drive'] = train['paved_drive'].map({'N': 1,'P': 2,'Y': 3})#for Train dataframe\n",
    "kaggle_test['paved_drive'] = kaggle_test['paved_drive'].map({'N': 1,'P': 2,'Y': 3})#for Test dataframe\n"
   ]
  },
  {
   "cell_type": "markdown",
   "metadata": {},
   "source": [
    "#### Convert Years to Numeric\n",
    "The following columns have numeric values but are years: <br> -Year Built (Discrete): Original construction date <br> -Year Remod/Add (Discrete): Remodel date (same as construction date if no remodeling or additions) <br> -Garage Yr Blt (Discrete): Year garage was built <br>\n",
    "\n",
    "Years are converted to a more useful numeric value, age in years at time of sale\n"
   ]
  },
  {
   "cell_type": "code",
   "execution_count": 10,
   "metadata": {},
   "outputs": [],
   "source": [
    "#Convert years to numeric\n",
    "train['built_age'] = train['yr_sold'] - train['year_built']\n",
    "train['garage_age'] = train['yr_sold'] - train['garage_yr_blt']\n",
    "train['remod/add_age'] = train['yr_sold'] - train['year_remod/add']\n",
    "kaggle_test['built_age'] = kaggle_test['yr_sold'] - kaggle_test['year_built']\n",
    "kaggle_test['garage_age'] = kaggle_test['yr_sold'] - kaggle_test['garage_yr_blt']\n",
    "kaggle_test['remod/add_age'] = kaggle_test['yr_sold'] - kaggle_test['year_remod/add']\n",
    "\n",
    "#Drop the year columns\n",
    "drop_cols=['yr_sold','year_built','garage_yr_blt','year_remod/add']\n",
    "train = train.drop(drop_cols, axis=1)\n",
    "kaggle_test = kaggle_test.drop(drop_cols, axis=1)"
   ]
  },
  {
   "cell_type": "markdown",
   "metadata": {},
   "source": [
    "Age of each house was then plotted againt saleprice. We can see from the below plot that the built age has strong negative correlation aginst saleprice. As the age increases the saleprice also decreases which makes sense. "
   ]
  },
  {
   "cell_type": "code",
   "execution_count": 11,
   "metadata": {
    "scrolled": true
   },
   "outputs": [
    {
     "data": {
      "image/png": "[encoded data removed]",
      "text/plain": [
       "<Figure size 432x288 with 1 Axes>"
      ]
     },
     "metadata": {
      "image/png": {
       "height": 277,
       "width": 411
      },
      "needs_background": "light"
     },
     "output_type": "display_data"
    }
   ],
   "source": [
    "#Plot built age vs saleproce. \n",
    "plt.scatter(x=train['built_age'],y=train['saleprice'])\n",
    "plt.title(\"SalePrice Vs Built Age\")\n",
    "plt.xlabel(\"Built Age\")\n",
    "plt.ylabel(\"SalePrice\")\n",
    "plt.show()"
   ]
  },
  {
   "cell_type": "markdown",
   "metadata": {},
   "source": [
    "#### Drop columns with low correlation\n",
    "Columns that are close to 0 correlation were dropped to avoid overfitting of data."
   ]
  },
  {
   "cell_type": "markdown",
   "metadata": {},
   "source": [
    "#### Converting Categorical Columns\n",
    "Only 23 columns listed below were left as categorical columns. The rest were converted to numerical."
   ]
  },
  {
   "cell_type": "code",
   "execution_count": 12,
   "metadata": {},
   "outputs": [
    {
     "data": {
      "text/plain": [
       "['ms_zoning',\n",
       " 'street',\n",
       " 'lot_shape',\n",
       " 'land_contour',\n",
       " 'utilities',\n",
       " 'lot_config',\n",
       " 'land_slope',\n",
       " 'neighborhood',\n",
       " 'condition_1',\n",
       " 'condition_2',\n",
       " 'bldg_type',\n",
       " 'house_style',\n",
       " 'roof_style',\n",
       " 'roof_matl',\n",
       " 'exterior_1st',\n",
       " 'exterior_2nd',\n",
       " 'mas_vnr_type',\n",
       " 'foundation',\n",
       " 'bsmtfin_type_1',\n",
       " 'bsmtfin_type_2',\n",
       " 'heating',\n",
       " 'electrical',\n",
       " 'sale_type']"
      ]
     },
     "execution_count": 12,
     "metadata": {},
     "output_type": "execute_result"
    }
   ],
   "source": [
    "#Take a list of left categorical columns. \n",
    "cat_var = [col for col in train.columns if train[col].dtypes == 'object'] \n",
    "num_var = [col for col in train.columns if train[col].dtypes != 'object'] \n",
    "cat_var"
   ]
  },
  {
   "cell_type": "markdown",
   "metadata": {},
   "source": [
    "Categorical columns were converted to dummies for modelling."
   ]
  },
  {
   "cell_type": "code",
   "execution_count": 13,
   "metadata": {},
   "outputs": [
    {
     "data": {
      "text/plain": [
       "((2046, 67), (879, 66))"
      ]
     },
     "execution_count": 13,
     "metadata": {},
     "output_type": "execute_result"
    }
   ],
   "source": [
    "train.shape,kaggle_test.shape #Check number of columns before dummies."
   ]
  },
  {
   "cell_type": "code",
   "execution_count": 14,
   "metadata": {},
   "outputs": [],
   "source": [
    "#get dummy for train dataframe\n",
    "train = pd.get_dummies(train, columns=cat_var, \n",
    "                       drop_first=True) \n",
    "#get dummy for test dataframe\n",
    "kaggle_test = pd.get_dummies(kaggle_test, columns=cat_var, \n",
    "                             drop_first=True) "
   ]
  },
  {
   "cell_type": "code",
   "execution_count": 15,
   "metadata": {},
   "outputs": [
    {
     "data": {
      "text/plain": [
       "((2046, 192), (879, 184))"
      ]
     },
     "execution_count": 15,
     "metadata": {},
     "output_type": "execute_result"
    }
   ],
   "source": [
    "train.shape,kaggle_test.shape #Check number of columns after dummies."
   ]
  },
  {
   "cell_type": "markdown",
   "metadata": {},
   "source": [
    "#### Ensure columns in test is the same as in train"
   ]
  },
  {
   "cell_type": "code",
   "execution_count": 16,
   "metadata": {},
   "outputs": [],
   "source": [
    "#Selecting columns \n",
    "features = [x for x in train.columns if x != 'saleprice']"
   ]
  },
  {
   "cell_type": "code",
   "execution_count": 17,
   "metadata": {},
   "outputs": [],
   "source": [
    "# Find missing columns in test\n",
    "missing_cols = set(train.columns) - set(kaggle_test.columns)\n",
    "# Add a missing column in test with default value equal to 0\n",
    "for c in missing_cols:\n",
    "    kaggle_test[c] = 0\n",
    "# Ensure the order of columns in test is the same as in train\n",
    "kaggle_test = kaggle_test[features]"
   ]
  },
  {
   "cell_type": "code",
   "execution_count": 18,
   "metadata": {},
   "outputs": [
    {
     "data": {
      "text/plain": [
       "((2046, 192), (879, 191))"
      ]
     },
     "execution_count": 18,
     "metadata": {},
     "output_type": "execute_result"
    }
   ],
   "source": [
    "train.shape,kaggle_test.shape  #Check number of columns after dummies"
   ]
  },
  {
   "cell_type": "markdown",
   "metadata": {},
   "source": [
    "The difference in the number of columns between train and test dataframe is saleprice column."
   ]
  },
  {
   "cell_type": "markdown",
   "metadata": {},
   "source": [
    "#### Normalize Target column\n",
    "It is evident that Sale Price do not follow a normal distribution. It is right skewed.For the regressors to work better, the data shouldn't be sparsely distributed. Taking the log function to normalize in this instance."
   ]
  },
  {
   "cell_type": "code",
   "execution_count": 19,
   "metadata": {},
   "outputs": [
    {
     "data": {
      "image/png": "[encoded data removed]",
      "text/plain": [
       "<Figure size 648x288 with 2 Axes>"
      ]
     },
     "metadata": {
      "image/png": {
       "height": 265,
       "width": 543
      }
     },
     "output_type": "display_data"
    }
   ],
   "source": [
    "#Normalize target column\n",
    "sns.set_style('darkgrid')\n",
    "norm_saleprice = np.log(train['saleprice'])\n",
    "pre_n_post_sale_price = pd.DataFrame({'Normalized Sale Prices':norm_saleprice, \n",
    "                                      'Sale Prices': train[\"saleprice\"]})\n",
    "fig = pre_n_post_sale_price.hist(figsize = [9,4],color = 'darkred');\n",
    "\n",
    "## adjusting the size of title\n",
    "[x.title.set_size(15) for x in fig.ravel()]  \n",
    "train.saleprice = norm_saleprice"
   ]
  },
  {
   "cell_type": "markdown",
   "metadata": {},
   "source": [
    "#### Saving the Dataframe"
   ]
  },
  {
   "cell_type": "code",
   "execution_count": 20,
   "metadata": {},
   "outputs": [],
   "source": [
    "train.to_csv('datasets/train_featured.csv', index=False)"
   ]
  },
  {
   "cell_type": "code",
   "execution_count": 21,
   "metadata": {},
   "outputs": [
    {
     "name": "stdout",
     "output_type": "stream",
     "text": [
      "(2046, 192) (879, 191)\n"
     ]
    }
   ],
   "source": [
    "kaggle_test.to_csv('datasets/kaggle_test_featured.csv', index=False)\n",
    "print(train.shape,kaggle_test.shape)"
   ]
  },
  {
   "cell_type": "code",
   "execution_count": null,
   "metadata": {},
   "outputs": [],
   "source": []
  }
 ],
 "metadata": {
  "kernelspec": {
   "display_name": "Python 3",
   "language": "python",
   "name": "python3"
  },
  "language_info": {
   "codemirror_mode": {
    "name": "ipython",
    "version": 3
   },
   "file_extension": ".py",
   "mimetype": "text/x-python",
   "name": "python",
   "nbconvert_exporter": "python",
   "pygments_lexer": "ipython3",
   "version": "3.8.3"
  }
 },
 "nbformat": 4,
 "nbformat_minor": 4
}
